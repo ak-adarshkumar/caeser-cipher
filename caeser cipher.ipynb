{
 "cells": [
  {
   "cell_type": "code",
   "execution_count": null,
   "id": "33509510-b7a7-4e1e-86a0-5ece67f9797e",
   "metadata": {},
   "outputs": [],
   "source": [
    "alphabet = ['a', 'b', 'c', 'd', 'e', 'f', 'g', 'h', 'i', 'j', 'k', 'l', 'm', 'n', 'o', 'p', 'q', 'r', 's', 't', 'u', 'v', 'w', 'x', 'y', 'z']\n",
    "\n",
    "# TODO-2: What happens if the user enters a number/symbol/space?\n",
    "\n",
    "\n",
    "def caesar(original_text, shift_amount, encode_or_decode):\n",
    "    output_text = \"\"\n",
    "\n",
    "    for letter in original_text:\n",
    "        if encode_or_decode == \"decode\":\n",
    "            shift_amount *= -1\n",
    "\n",
    "        shifted_position = alphabet.index(letter) + shift_amount\n",
    "        shifted_position %= len(alphabet)\n",
    "        output_text += alphabet[shifted_position]\n",
    "    print(f\"Here is the {encode_or_decode}d result: {output_text}\")\n",
    "\n",
    "\n",
    "# TODO-3: Can you figure out a way to restart the cipher program?\n",
    "\n",
    "\n",
    "direction = input(\"Type 'encode' to encrypt, type 'decode' to decrypt:\\n\").lower()\n",
    "text = input(\"Type your message:\\n\").lower()\n",
    "shift = int(input(\"Type the shift number:\\n\"))\n",
    "\n",
    "caesar(original_text=text, shift_amount=shift, encode_or_decode=direction)"
   ]
  },
  {
   "cell_type": "code",
   "execution_count": 9,
   "id": "df9985ce-04ed-4de1-b18d-15e70ddf026c",
   "metadata": {},
   "outputs": [
    {
     "name": "stdin",
     "output_type": "stream",
     "text": [
      "Type 'encode' to encrypt, type 'decode' to decrypt:\n",
      " encode\n",
      "Type your message:\n",
      " xyz\n",
      "Type the shift number:\n",
      " 3\n"
     ]
    },
    {
     "ename": "UnboundLocalError",
     "evalue": "cannot access local variable 'newposition' where it is not associated with a value",
     "output_type": "error",
     "traceback": [
      "\u001b[1;31m---------------------------------------------------------------------------\u001b[0m",
      "\u001b[1;31mUnboundLocalError\u001b[0m                         Traceback (most recent call last)",
      "Cell \u001b[1;32mIn[9], line 19\u001b[0m\n\u001b[0;32m     14\u001b[0m         caeser_text \u001b[38;5;241m+\u001b[39m\u001b[38;5;241m=\u001b[39m new_letter\n\u001b[0;32m     15\u001b[0m     \u001b[38;5;28mprint\u001b[39m(\u001b[38;5;124mf\u001b[39m\u001b[38;5;124m\"\u001b[39m\u001b[38;5;124mthe \u001b[39m\u001b[38;5;132;01m{\u001b[39;00mdirection\u001b[38;5;132;01m}\u001b[39;00m\u001b[38;5;124md text is \u001b[39m\u001b[38;5;132;01m{\u001b[39;00mcaeser_text\u001b[38;5;132;01m}\u001b[39;00m\u001b[38;5;124m.\u001b[39m\u001b[38;5;124m\"\u001b[39m)\n\u001b[1;32m---> 19\u001b[0m \u001b[43mcaeser\u001b[49m\u001b[43m(\u001b[49m\u001b[43minput_direction\u001b[49m\u001b[38;5;241;43m=\u001b[39;49m\u001b[43mdirection\u001b[49m\u001b[43m,\u001b[49m\u001b[43m \u001b[49m\u001b[43minput_text\u001b[49m\u001b[38;5;241;43m=\u001b[39;49m\u001b[43mtext\u001b[49m\u001b[43m,\u001b[49m\u001b[43m \u001b[49m\u001b[43minput_shift\u001b[49m\u001b[38;5;241;43m=\u001b[39;49m\u001b[43mshift\u001b[49m\u001b[43m)\u001b[49m\n",
      "Cell \u001b[1;32mIn[9], line 12\u001b[0m, in \u001b[0;36mcaeser\u001b[1;34m(input_direction, input_text, input_shift)\u001b[0m\n\u001b[0;32m     10\u001b[0m position \u001b[38;5;241m=\u001b[39m alphabet\u001b[38;5;241m.\u001b[39mindex(letter)\n\u001b[0;32m     11\u001b[0m new_position \u001b[38;5;241m=\u001b[39m position \u001b[38;5;241m+\u001b[39m input_shift\n\u001b[1;32m---> 12\u001b[0m \u001b[43mnewposition\u001b[49m\u001b[38;5;241m%\u001b[39m\u001b[38;5;241m=\u001b[39m \u001b[38;5;28mlen\u001b[39m(alphabet)\n\u001b[0;32m     13\u001b[0m new_letter \u001b[38;5;241m=\u001b[39m alphabet[new_position]\n\u001b[0;32m     14\u001b[0m caeser_text \u001b[38;5;241m+\u001b[39m\u001b[38;5;241m=\u001b[39m new_letter\n",
      "\u001b[1;31mUnboundLocalError\u001b[0m: cannot access local variable 'newposition' where it is not associated with a value"
     ]
    }
   ],
   "source": [
    "alphabet = ['a', 'b', 'c', 'd', 'e', 'f', 'g', 'h', 'i', 'j', 'k', 'l', 'm', 'n', 'o', 'p', 'q', 'r', 's', 't', 'u', 'v', 'w', 'x', 'y', 'z']\n",
    "direction = input(\"Type 'encode' to encrypt, type 'decode' to decrypt:\\n\").lower()\n",
    "text = input(\"Type your message:\\n\").lower()\n",
    "shift = int(input(\"Type the shift number:\\n\"))\n",
    "def caeser(input_direction, input_text, input_shift):\n",
    "    caeser_text = \"\"\n",
    "    if input_direction == \"decode\":\n",
    "        input_shift *= -1\n",
    "    for letter in input_text:\n",
    "        position = alphabet.index(letter)\n",
    "        new_position = position + input_shift\n",
    "        newposition %= len(alphabet)\n",
    "        new_letter = alphabet[new_position]\n",
    "        caeser_text += new_letter\n",
    "    print(f\"the {direction}d text is {caeser_text}.\")\n",
    "\n",
    "\n",
    "\n",
    "caeser(input_direction=direction, input_text=text, input_shift=shift)"
   ]
  },
  {
   "cell_type": "code",
   "execution_count": null,
   "id": "68bfc608-71cc-4893-859e-f054d5684249",
   "metadata": {},
   "outputs": [
    {
     "name": "stdin",
     "output_type": "stream",
     "text": [
      "Type 'encode' to encrypt, type 'decode' to decrypt:\n",
      " decode\n",
      "Type your message:\n",
      " abc\n",
      "Type the shift number:\n",
      " 3\n"
     ]
    },
    {
     "name": "stdout",
     "output_type": "stream",
     "text": [
      "Here is the decoded result: xyz\n"
     ]
    },
    {
     "name": "stdin",
     "output_type": "stream",
     "text": [
      "Type 'yes' if you want to go again. Otherwise, type 'no'.\n",
      " yes\n",
      "Type 'encode' to encrypt, type 'decode' to decrypt:\n",
      " encode\n",
      "Type your message:\n",
      " wxy\n",
      "Type the shift number:\n",
      " 3\n"
     ]
    },
    {
     "name": "stdout",
     "output_type": "stream",
     "text": [
      "Here is the encoded result: zab\n"
     ]
    }
   ],
   "source": [
    "#caeser cipher\n",
    "alphabet = ['a', 'b', 'c', 'd', 'e', 'f', 'g', 'h', 'i', 'j', 'k', 'l', 'm', 'n', 'o', 'p', 'q', 'r', 's', 't', 'u', 'v', 'w', 'x', 'y', 'z']\n",
    "\n",
    "\n",
    "def caesar(original_text, shift_amount, encode_or_decode):\n",
    "    new_text = \"\"\n",
    "    if encode_or_decode == \"decode\":\n",
    "        shift_amount = -shift_amount\n",
    "    for letter in original_text:\n",
    "\n",
    "        if letter not in original_text:\n",
    "            new_text += letter\n",
    "        else:\n",
    "            new_position = alphabet.index(letter) + shift_amount\n",
    "            new_position %= len(alphabet) # other ways to do that is to add another list at the end so that the 28,29,30th\n",
    "                                          # position will be a,b,c ... and so on\n",
    "            new_text += alphabet[new_position]\n",
    "    print(f\"Here is the {encode_or_decode}d result: {new_text}\")\n",
    "\n",
    "\n",
    "\n",
    "continue_again = True\n",
    "while continue_again:\n",
    "    direction = input(\"Type 'encode' to encrypt, type 'decode' to decrypt:\\n\").lower()\n",
    "    text = input(\"Type your message:\\n\").lower()\n",
    "    shift = int(input(\"Type the shift number:\\n\"))\n",
    "\n",
    "    caesar(original_text=text, shift_amount=shift, encode_or_decode=direction)\n",
    "    restart = input(\"Type 'yes' if you want to go again. Otherwise, type 'no'.\\n\").lower()\n",
    "    if restart == \"no\":\n",
    "        continue_again = False\n",
    "        print(\"Goodbye\")"
   ]
  },
  {
   "cell_type": "code",
   "execution_count": null,
   "id": "63c139e4-196d-4277-8e17-692671963a37",
   "metadata": {},
   "outputs": [],
   "source": []
  }
 ],
 "metadata": {
  "kernelspec": {
   "display_name": "Python 3 (ipykernel)",
   "language": "python",
   "name": "python3"
  },
  "language_info": {
   "codemirror_mode": {
    "name": "ipython",
    "version": 3
   },
   "file_extension": ".py",
   "mimetype": "text/x-python",
   "name": "python",
   "nbconvert_exporter": "python",
   "pygments_lexer": "ipython3",
   "version": "3.11.7"
  }
 },
 "nbformat": 4,
 "nbformat_minor": 5
}
